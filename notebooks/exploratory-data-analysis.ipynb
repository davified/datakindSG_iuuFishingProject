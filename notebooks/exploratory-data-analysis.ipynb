{
 "cells": [
  {
   "cell_type": "code",
   "execution_count": 1,
   "metadata": {
    "collapsed": true
   },
   "outputs": [],
   "source": [
    "import pandas as pd\n",
    "import matplotlib.pyplot as plt\n",
    "import numpy as np\n",
    "import imblearn\n",
    "\n",
    "%matplotlib inline\n",
    "pd.options.display.max_columns = 40\n",
    "\n",
    "from sklearn import metrics\n",
    "from sklearn.model_selection import train_test_split\n",
    "from sklearn.linear_model import LogisticRegression"
   ]
  },
  {
   "cell_type": "code",
   "execution_count": 2,
   "metadata": {
    "collapsed": true
   },
   "outputs": [],
   "source": [
    "df = pd.read_csv('../data/sampleWithoutMeasures.csv')"
   ]
  },
  {
   "cell_type": "code",
   "execution_count": 6,
   "metadata": {
    "collapsed": false
   },
   "outputs": [
    {
     "data": {
      "text/html": [
       "<div>\n",
       "<style>\n",
       "    .dataframe thead tr:only-child th {\n",
       "        text-align: right;\n",
       "    }\n",
       "\n",
       "    .dataframe thead th {\n",
       "        text-align: left;\n",
       "    }\n",
       "\n",
       "    .dataframe tbody tr th {\n",
       "        vertical-align: top;\n",
       "    }\n",
       "</style>\n",
       "<table border=\"1\" class=\"dataframe\">\n",
       "  <thead>\n",
       "    <tr style=\"text-align: right;\">\n",
       "      <th></th>\n",
       "      <th>mmsi</th>\n",
       "      <th>timestamp</th>\n",
       "      <th>distance_from_shore</th>\n",
       "      <th>distance_from_port</th>\n",
       "      <th>speed</th>\n",
       "      <th>course</th>\n",
       "      <th>lat</th>\n",
       "      <th>lon</th>\n",
       "      <th>is_fishing</th>\n",
       "    </tr>\n",
       "  </thead>\n",
       "  <tbody>\n",
       "    <tr>\n",
       "      <th>0</th>\n",
       "      <td>1.263956e+13</td>\n",
       "      <td>1.327137e+09</td>\n",
       "      <td>232994.281250</td>\n",
       "      <td>311748.65625</td>\n",
       "      <td>8.2</td>\n",
       "      <td>230.500000</td>\n",
       "      <td>14.865583</td>\n",
       "      <td>-26.853662</td>\n",
       "      <td>-1.0</td>\n",
       "    </tr>\n",
       "    <tr>\n",
       "      <th>1</th>\n",
       "      <td>1.263956e+13</td>\n",
       "      <td>1.327137e+09</td>\n",
       "      <td>232994.281250</td>\n",
       "      <td>311748.65625</td>\n",
       "      <td>8.2</td>\n",
       "      <td>230.500000</td>\n",
       "      <td>14.865583</td>\n",
       "      <td>-26.853662</td>\n",
       "      <td>-1.0</td>\n",
       "    </tr>\n",
       "    <tr>\n",
       "      <th>2</th>\n",
       "      <td>1.263956e+13</td>\n",
       "      <td>1.327137e+09</td>\n",
       "      <td>233994.265625</td>\n",
       "      <td>312410.34375</td>\n",
       "      <td>7.3</td>\n",
       "      <td>238.399994</td>\n",
       "      <td>14.863870</td>\n",
       "      <td>-26.856800</td>\n",
       "      <td>-1.0</td>\n",
       "    </tr>\n",
       "    <tr>\n",
       "      <th>3</th>\n",
       "      <td>1.263956e+13</td>\n",
       "      <td>1.327137e+09</td>\n",
       "      <td>233994.265625</td>\n",
       "      <td>312410.34375</td>\n",
       "      <td>7.3</td>\n",
       "      <td>238.399994</td>\n",
       "      <td>14.863870</td>\n",
       "      <td>-26.856800</td>\n",
       "      <td>-1.0</td>\n",
       "    </tr>\n",
       "    <tr>\n",
       "      <th>4</th>\n",
       "      <td>1.263956e+13</td>\n",
       "      <td>1.327137e+09</td>\n",
       "      <td>233994.265625</td>\n",
       "      <td>312410.34375</td>\n",
       "      <td>6.8</td>\n",
       "      <td>238.899994</td>\n",
       "      <td>14.861551</td>\n",
       "      <td>-26.860649</td>\n",
       "      <td>-1.0</td>\n",
       "    </tr>\n",
       "  </tbody>\n",
       "</table>\n",
       "</div>"
      ],
      "text/plain": [
       "           mmsi     timestamp  distance_from_shore  distance_from_port  speed  \\\n",
       "0  1.263956e+13  1.327137e+09        232994.281250        311748.65625    8.2   \n",
       "1  1.263956e+13  1.327137e+09        232994.281250        311748.65625    8.2   \n",
       "2  1.263956e+13  1.327137e+09        233994.265625        312410.34375    7.3   \n",
       "3  1.263956e+13  1.327137e+09        233994.265625        312410.34375    7.3   \n",
       "4  1.263956e+13  1.327137e+09        233994.265625        312410.34375    6.8   \n",
       "\n",
       "       course        lat        lon  is_fishing  \n",
       "0  230.500000  14.865583 -26.853662        -1.0  \n",
       "1  230.500000  14.865583 -26.853662        -1.0  \n",
       "2  238.399994  14.863870 -26.856800        -1.0  \n",
       "3  238.399994  14.863870 -26.856800        -1.0  \n",
       "4  238.899994  14.861551 -26.860649        -1.0  "
      ]
     },
     "execution_count": 6,
     "metadata": {},
     "output_type": "execute_result"
    }
   ],
   "source": [
    "df.head()"
   ]
  },
  {
   "cell_type": "code",
   "execution_count": 9,
   "metadata": {
    "collapsed": false
   },
   "outputs": [
    {
     "data": {
      "text/html": [
       "<div>\n",
       "<style>\n",
       "    .dataframe thead tr:only-child th {\n",
       "        text-align: right;\n",
       "    }\n",
       "\n",
       "    .dataframe thead th {\n",
       "        text-align: left;\n",
       "    }\n",
       "\n",
       "    .dataframe tbody tr th {\n",
       "        vertical-align: top;\n",
       "    }\n",
       "</style>\n",
       "<table border=\"1\" class=\"dataframe\">\n",
       "  <thead>\n",
       "    <tr style=\"text-align: right;\">\n",
       "      <th></th>\n",
       "      <th>mmsi</th>\n",
       "      <th>timestamp</th>\n",
       "      <th>distance_from_shore</th>\n",
       "      <th>distance_from_port</th>\n",
       "      <th>speed</th>\n",
       "      <th>course</th>\n",
       "      <th>lat</th>\n",
       "      <th>lon</th>\n",
       "      <th>is_fishing</th>\n",
       "    </tr>\n",
       "  </thead>\n",
       "  <tbody>\n",
       "    <tr>\n",
       "      <th>count</th>\n",
       "      <td>2.731200e+04</td>\n",
       "      <td>2.731200e+04</td>\n",
       "      <td>2.731200e+04</td>\n",
       "      <td>2.731200e+04</td>\n",
       "      <td>27312.000000</td>\n",
       "      <td>27312.000000</td>\n",
       "      <td>27312.000000</td>\n",
       "      <td>27312.000000</td>\n",
       "      <td>27312.000000</td>\n",
       "    </tr>\n",
       "    <tr>\n",
       "      <th>mean</th>\n",
       "      <td>1.263956e+13</td>\n",
       "      <td>1.392015e+09</td>\n",
       "      <td>2.403461e+05</td>\n",
       "      <td>2.800266e+05</td>\n",
       "      <td>5.027468</td>\n",
       "      <td>177.774290</td>\n",
       "      <td>23.981896</td>\n",
       "      <td>-19.592394</td>\n",
       "      <td>-0.933802</td>\n",
       "    </tr>\n",
       "    <tr>\n",
       "      <th>std</th>\n",
       "      <td>9.318530e+00</td>\n",
       "      <td>2.639746e+07</td>\n",
       "      <td>2.748148e+05</td>\n",
       "      <td>3.034527e+05</td>\n",
       "      <td>4.061513</td>\n",
       "      <td>105.626536</td>\n",
       "      <td>11.196872</td>\n",
       "      <td>7.613612</td>\n",
       "      <td>0.347202</td>\n",
       "    </tr>\n",
       "    <tr>\n",
       "      <th>min</th>\n",
       "      <td>1.263956e+13</td>\n",
       "      <td>1.327137e+09</td>\n",
       "      <td>0.000000e+00</td>\n",
       "      <td>0.000000e+00</td>\n",
       "      <td>0.000000</td>\n",
       "      <td>0.000000</td>\n",
       "      <td>7.698615</td>\n",
       "      <td>-42.419994</td>\n",
       "      <td>-1.000000</td>\n",
       "    </tr>\n",
       "    <tr>\n",
       "      <th>25%</th>\n",
       "      <td>1.263956e+13</td>\n",
       "      <td>1.373299e+09</td>\n",
       "      <td>0.000000e+00</td>\n",
       "      <td>1.131343e+04</td>\n",
       "      <td>0.900000</td>\n",
       "      <td>77.800003</td>\n",
       "      <td>16.888167</td>\n",
       "      <td>-25.084112</td>\n",
       "      <td>-1.000000</td>\n",
       "    </tr>\n",
       "    <tr>\n",
       "      <th>50%</th>\n",
       "      <td>1.263956e+13</td>\n",
       "      <td>1.390980e+09</td>\n",
       "      <td>1.392841e+05</td>\n",
       "      <td>1.825332e+05</td>\n",
       "      <td>6.100000</td>\n",
       "      <td>197.250000</td>\n",
       "      <td>18.461454</td>\n",
       "      <td>-18.870344</td>\n",
       "      <td>-1.000000</td>\n",
       "    </tr>\n",
       "    <tr>\n",
       "      <th>75%</th>\n",
       "      <td>1.263956e+13</td>\n",
       "      <td>1.409926e+09</td>\n",
       "      <td>3.713297e+05</td>\n",
       "      <td>4.367681e+05</td>\n",
       "      <td>8.200000</td>\n",
       "      <td>248.000000</td>\n",
       "      <td>37.233751</td>\n",
       "      <td>-13.953692</td>\n",
       "      <td>-1.000000</td>\n",
       "    </tr>\n",
       "    <tr>\n",
       "      <th>max</th>\n",
       "      <td>1.263956e+13</td>\n",
       "      <td>1.458252e+09</td>\n",
       "      <td>1.319017e+06</td>\n",
       "      <td>1.501624e+06</td>\n",
       "      <td>102.300003</td>\n",
       "      <td>360.000000</td>\n",
       "      <td>43.665031</td>\n",
       "      <td>-8.647638</td>\n",
       "      <td>1.000000</td>\n",
       "    </tr>\n",
       "  </tbody>\n",
       "</table>\n",
       "</div>"
      ],
      "text/plain": [
       "               mmsi     timestamp  distance_from_shore  distance_from_port  \\\n",
       "count  2.731200e+04  2.731200e+04         2.731200e+04        2.731200e+04   \n",
       "mean   1.263956e+13  1.392015e+09         2.403461e+05        2.800266e+05   \n",
       "std    9.318530e+00  2.639746e+07         2.748148e+05        3.034527e+05   \n",
       "min    1.263956e+13  1.327137e+09         0.000000e+00        0.000000e+00   \n",
       "25%    1.263956e+13  1.373299e+09         0.000000e+00        1.131343e+04   \n",
       "50%    1.263956e+13  1.390980e+09         1.392841e+05        1.825332e+05   \n",
       "75%    1.263956e+13  1.409926e+09         3.713297e+05        4.367681e+05   \n",
       "max    1.263956e+13  1.458252e+09         1.319017e+06        1.501624e+06   \n",
       "\n",
       "              speed        course           lat           lon    is_fishing  \n",
       "count  27312.000000  27312.000000  27312.000000  27312.000000  27312.000000  \n",
       "mean       5.027468    177.774290     23.981896    -19.592394     -0.933802  \n",
       "std        4.061513    105.626536     11.196872      7.613612      0.347202  \n",
       "min        0.000000      0.000000      7.698615    -42.419994     -1.000000  \n",
       "25%        0.900000     77.800003     16.888167    -25.084112     -1.000000  \n",
       "50%        6.100000    197.250000     18.461454    -18.870344     -1.000000  \n",
       "75%        8.200000    248.000000     37.233751    -13.953692     -1.000000  \n",
       "max      102.300003    360.000000     43.665031     -8.647638      1.000000  "
      ]
     },
     "execution_count": 9,
     "metadata": {},
     "output_type": "execute_result"
    }
   ],
   "source": [
    "df.describe()"
   ]
  },
  {
   "cell_type": "code",
   "execution_count": 8,
   "metadata": {
    "collapsed": false
   },
   "outputs": [
    {
     "data": {
      "text/plain": [
       "-1.0    26306\n",
       " 1.0      802\n",
       " 0.0      204\n",
       "Name: is_fishing, dtype: int64"
      ]
     },
     "execution_count": 8,
     "metadata": {},
     "output_type": "execute_result"
    }
   ],
   "source": [
    "df['is_fishing'].value_counts()"
   ]
  },
  {
   "cell_type": "code",
   "execution_count": 11,
   "metadata": {
    "collapsed": false
   },
   "outputs": [
    {
     "name": "stderr",
     "output_type": "stream",
     "text": [
      "/Users/davidtan/anaconda2/lib/python2.7/site-packages/ipykernel/__main__.py:1: DeprecationWarning: \n",
      ".ix is deprecated. Please use\n",
      ".loc for label based indexing or\n",
      ".iloc for positional indexing\n",
      "\n",
      "See the documentation here:\n",
      "http://pandas.pydata.org/pandas-docs/stable/indexing.html#deprecate_ix\n",
      "  if __name__ == '__main__':\n"
     ]
    }
   ],
   "source": [
    "X = df.ix[:, df.columns != 'is_fishing']\n",
    "y = df.ix[:, df.columns == 'is_fishing'].values.ravel()"
   ]
  },
  {
   "cell_type": "code",
   "execution_count": 12,
   "metadata": {
    "collapsed": true
   },
   "outputs": [],
   "source": [
    "X_train, X_test, y_train, y_test = train_test_split(X, y, random_state=0)"
   ]
  },
  {
   "cell_type": "code",
   "execution_count": 13,
   "metadata": {
    "collapsed": true
   },
   "outputs": [],
   "source": [
    "from sklearn.ensemble import RandomForestClassifier"
   ]
  },
  {
   "cell_type": "code",
   "execution_count": 14,
   "metadata": {
    "collapsed": true
   },
   "outputs": [],
   "source": [
    "rfc_model = RandomForestClassifier(random_state=0)"
   ]
  },
  {
   "cell_type": "code",
   "execution_count": 15,
   "metadata": {
    "collapsed": false
   },
   "outputs": [
    {
     "data": {
      "text/plain": [
       "RandomForestClassifier(bootstrap=True, class_weight=None, criterion='gini',\n",
       "            max_depth=None, max_features='auto', max_leaf_nodes=None,\n",
       "            min_impurity_split=1e-07, min_samples_leaf=1,\n",
       "            min_samples_split=2, min_weight_fraction_leaf=0.0,\n",
       "            n_estimators=10, n_jobs=1, oob_score=False, random_state=0,\n",
       "            verbose=0, warm_start=False)"
      ]
     },
     "execution_count": 15,
     "metadata": {},
     "output_type": "execute_result"
    }
   ],
   "source": [
    "rfc_model.fit(X_train, y_train)"
   ]
  },
  {
   "cell_type": "code",
   "execution_count": 17,
   "metadata": {
    "collapsed": false
   },
   "outputs": [],
   "source": [
    "expected = y\n",
    "predicted = rfc_model.predict(X)"
   ]
  },
  {
   "cell_type": "code",
   "execution_count": 18,
   "metadata": {
    "collapsed": true
   },
   "outputs": [],
   "source": [
    "from sklearn.metrics import classification_report, confusion_matrix"
   ]
  },
  {
   "cell_type": "code",
   "execution_count": 20,
   "metadata": {
    "collapsed": false
   },
   "outputs": [
    {
     "name": "stdout",
     "output_type": "stream",
     "text": [
      "             precision    recall  f1-score   support\n",
      "\n",
      "       -1.0       1.00      1.00      1.00     26306\n",
      "        0.0       1.00      0.92      0.96       204\n",
      "        1.0       0.99      0.97      0.98       802\n",
      "\n",
      "avg / total       1.00      1.00      1.00     27312\n",
      "\n"
     ]
    }
   ],
   "source": [
    "print(classification_report(expected, predicted))"
   ]
  },
  {
   "cell_type": "code",
   "execution_count": 21,
   "metadata": {
    "collapsed": false
   },
   "outputs": [
    {
     "name": "stdout",
     "output_type": "stream",
     "text": [
      "[[26302     0     4]\n",
      " [   16   188     0]\n",
      " [   28     0   774]]\n"
     ]
    }
   ],
   "source": [
    "print(confusion_matrix(expected, predicted))"
   ]
  },
  {
   "cell_type": "markdown",
   "metadata": {},
   "source": [
    "## Data visualisation"
   ]
  },
  {
   "cell_type": "code",
   "execution_count": 27,
   "metadata": {
    "collapsed": false
   },
   "outputs": [],
   "source": [
    "from mpl_toolkits.basemap import Basemap\n",
    "import matplotlib.pyplot as plt\n",
    "import numpy as np"
   ]
  },
  {
   "cell_type": "code",
   "execution_count": 45,
   "metadata": {
    "collapsed": false
   },
   "outputs": [
    {
     "data": {
      "text/plain": [
       "<matplotlib.figure.Figure at 0x119049990>"
      ]
     },
     "execution_count": 45,
     "metadata": {},
     "output_type": "execute_result"
    },
    {
     "data": {
      "text/plain": [
       "<matplotlib.figure.Figure at 0x119049990>"
      ]
     },
     "metadata": {},
     "output_type": "display_data"
    }
   ],
   "source": [
    "plt.figure(figsize=(20,20))"
   ]
  },
  {
   "cell_type": "code",
   "execution_count": 46,
   "metadata": {
    "collapsed": false
   },
   "outputs": [
    {
     "data": {
      "text/plain": [
       "[<matplotlib.lines.Line2D at 0x117e19a50>]"
      ]
     },
     "execution_count": 46,
     "metadata": {},
     "output_type": "execute_result"
    },
    {
     "data": {
      "image/png": "[encoded data removed]",
      "text/plain": [
       "<matplotlib.figure.Figure at 0x1190498d0>"
      ]
     },
     "metadata": {},
     "output_type": "display_data"
    }
   ],
   "source": [
    "from mpl_toolkits.basemap import Basemap\n",
    "\n",
    "\n",
    "map = Basemap(resolution = 'l',  \n",
    "              area_thresh = 1000.0,lat_0=0, lon_0=-130,\n",
    "             llcrnrlon=-42.419994, llcrnrlat=7.698615, \n",
    "             urcrnrlon=-8.647638, urcrnrlat=43.665031)\n",
    "\n",
    "map.drawcoastlines()\n",
    "\n",
    "map.drawcountries()\n",
    "\n",
    "map.fillcontinents(color = 'gray')\n",
    "\n",
    "map.drawmapboundary()\n",
    "\n",
    "x,y = map(df['lon'].tolist(), df['lat'].tolist())\n",
    "\n",
    "map.plot(x, y, 'ro', markersize=1) "
   ]
  },
  {
   "cell_type": "code",
   "execution_count": 70,
   "metadata": {
    "collapsed": true
   },
   "outputs": [],
   "source": [
    "?df.plot.scatter()"
   ]
  },
  {
   "cell_type": "code",
   "execution_count": 71,
   "metadata": {
    "collapsed": false,
    "scrolled": true
   },
   "outputs": [
    {
     "data": {
      "text/plain": [
       "<matplotlib.axes._subplots.AxesSubplot at 0x11bbcd690>"
      ]
     },
     "execution_count": 71,
     "metadata": {},
     "output_type": "execute_result"
    },
    {
     "data": {
      "image/png": "[encoded data removed]",
      "text/plain": [
       "<matplotlib.figure.Figure at 0x11bbd8f10>"
      ]
     },
     "metadata": {},
     "output_type": "display_data"
    }
   ],
   "source": [
    "df.loc[df['is_fishing'] == 1.0].plot.scatter(x='lon', y='lat', s=0.1, xlim=(-45, -5), ylim=(5,45))"
   ]
  },
  {
   "cell_type": "code",
   "execution_count": 72,
   "metadata": {
    "collapsed": false
   },
   "outputs": [
    {
     "data": {
      "text/plain": [
       "<matplotlib.axes._subplots.AxesSubplot at 0x115f5da50>"
      ]
     },
     "execution_count": 72,
     "metadata": {},
     "output_type": "execute_result"
    },
    {
     "data": {
      "image/png": "[encoded data removed]",
      "text/plain": [
       "<matplotlib.figure.Figure at 0x118540310>"
      ]
     },
     "metadata": {},
     "output_type": "display_data"
    }
   ],
   "source": [
    "df.loc[df['is_fishing'] != 1.0].plot.scatter(x='lon', y='lat', s=0.1, xlim=(-45, -5), ylim=(5,45))"
   ]
  },
  {
   "cell_type": "code",
   "execution_count": null,
   "metadata": {
    "collapsed": true
   },
   "outputs": [],
   "source": [
    "df.plot.scatter(x='lon', y='lat', s=0.1, c='is_fishing', cmap='cool')"
   ]
  },
  {
   "cell_type": "code",
   "execution_count": 73,
   "metadata": {
    "collapsed": true
   },
   "outputs": [],
   "source": [
    "import numpy as np"
   ]
  },
  {
   "cell_type": "code",
   "execution_count": null,
   "metadata": {
    "collapsed": true
   },
   "outputs": [],
   "source": []
  }
 ],
 "metadata": {
  "kernelspec": {
   "display_name": "Python 2",
   "language": "python",
   "name": "python2"
  },
  "language_info": {
   "codemirror_mode": {
    "name": "ipython",
    "version": 2
   },
   "file_extension": ".py",
   "mimetype": "text/x-python",
   "name": "python",
   "nbconvert_exporter": "python",
   "pygments_lexer": "ipython2",
   "version": "2.7.13"
  }
 },
 "nbformat": 4,
 "nbformat_minor": 2
}
